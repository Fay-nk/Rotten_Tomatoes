{
 "cells": [
  {
   "cell_type": "code",
   "execution_count": 1,
   "metadata": {},
   "outputs": [],
   "source": [
    "import numpy as np\n",
    "import pandas as pd\n",
    "import matplotlib.pyplot as plt\n",
    "import seaborn as sns"
   ]
  },
  {
   "cell_type": "code",
   "execution_count": 2,
   "metadata": {},
   "outputs": [],
   "source": [
    "df = pd.read_csv(\"ds-4 Rotten Tomatoes Movies.csv\", encoding='latin1', on_bad_lines='skip').copy()"
   ]
  },
  {
   "cell_type": "code",
   "execution_count": 3,
   "metadata": {},
   "outputs": [
    {
     "data": {
      "text/html": [
       "<div>\n",
       "<style scoped>\n",
       "    .dataframe tbody tr th:only-of-type {\n",
       "        vertical-align: middle;\n",
       "    }\n",
       "\n",
       "    .dataframe tbody tr th {\n",
       "        vertical-align: top;\n",
       "    }\n",
       "\n",
       "    .dataframe thead th {\n",
       "        text-align: right;\n",
       "    }\n",
       "</style>\n",
       "<table border=\"1\" class=\"dataframe\">\n",
       "  <thead>\n",
       "    <tr style=\"text-align: right;\">\n",
       "      <th></th>\n",
       "      <th>movie_title</th>\n",
       "      <th>movie_info</th>\n",
       "      <th>critics_consensus</th>\n",
       "      <th>rating</th>\n",
       "      <th>genre</th>\n",
       "      <th>directors</th>\n",
       "      <th>writers</th>\n",
       "      <th>cast</th>\n",
       "      <th>in_theaters_date</th>\n",
       "      <th>on_streaming_date</th>\n",
       "      <th>runtime_in_minutes</th>\n",
       "      <th>studio_name</th>\n",
       "      <th>tomatometer_status</th>\n",
       "      <th>tomatometer_rating</th>\n",
       "      <th>tomatometer_count</th>\n",
       "      <th>audience_rating</th>\n",
       "      <th>audience_count</th>\n",
       "    </tr>\n",
       "  </thead>\n",
       "  <tbody>\n",
       "    <tr>\n",
       "      <th>0</th>\n",
       "      <td>Percy Jackson &amp; the Olympians: The Lightning T...</td>\n",
       "      <td>A teenager discovers he's the descendant of a ...</td>\n",
       "      <td>Though it may seem like just another Harry Pot...</td>\n",
       "      <td>PG</td>\n",
       "      <td>Action &amp; Adventure, Comedy, Drama, Science Fic...</td>\n",
       "      <td>Chris Columbus</td>\n",
       "      <td>Craig Titley</td>\n",
       "      <td>Logan Lerman, Brandon T. Jackson, Alexandra Da...</td>\n",
       "      <td>2010-02-12</td>\n",
       "      <td>2010-06-29</td>\n",
       "      <td>83</td>\n",
       "      <td>20th Century Fox</td>\n",
       "      <td>Rotten</td>\n",
       "      <td>49</td>\n",
       "      <td>144</td>\n",
       "      <td>53</td>\n",
       "      <td>254287.0</td>\n",
       "    </tr>\n",
       "    <tr>\n",
       "      <th>1</th>\n",
       "      <td>Please Give</td>\n",
       "      <td>Kate has a lot on her mind. There's the ethics...</td>\n",
       "      <td>Nicole Holofcener's newest might seem slight i...</td>\n",
       "      <td>R</td>\n",
       "      <td>Comedy</td>\n",
       "      <td>Nicole Holofcener</td>\n",
       "      <td>Nicole Holofcener</td>\n",
       "      <td>Catherine Keener, Amanda Peet, Oliver Platt, R...</td>\n",
       "      <td>2010-04-30</td>\n",
       "      <td>2010-10-19</td>\n",
       "      <td>90</td>\n",
       "      <td>Sony Pictures Classics</td>\n",
       "      <td>Certified Fresh</td>\n",
       "      <td>86</td>\n",
       "      <td>140</td>\n",
       "      <td>64</td>\n",
       "      <td>11567.0</td>\n",
       "    </tr>\n",
       "    <tr>\n",
       "      <th>2</th>\n",
       "      <td>10</td>\n",
       "      <td>Blake Edwards' 10 stars Dudley Moore as George...</td>\n",
       "      <td>NaN</td>\n",
       "      <td>R</td>\n",
       "      <td>Comedy, Romance</td>\n",
       "      <td>Blake Edwards</td>\n",
       "      <td>Blake Edwards</td>\n",
       "      <td>Dudley Moore, Bo Derek, Julie Andrews, Robert ...</td>\n",
       "      <td>1979-10-05</td>\n",
       "      <td>1997-08-27</td>\n",
       "      <td>118</td>\n",
       "      <td>Waner Bros.</td>\n",
       "      <td>Fresh</td>\n",
       "      <td>68</td>\n",
       "      <td>22</td>\n",
       "      <td>53</td>\n",
       "      <td>14670.0</td>\n",
       "    </tr>\n",
       "    <tr>\n",
       "      <th>3</th>\n",
       "      <td>12 Angry Men (Twelve Angry Men)</td>\n",
       "      <td>A Puerto Rican youth is on trial for murder, a...</td>\n",
       "      <td>Sidney Lumet's feature debut is a superbly wri...</td>\n",
       "      <td>NR</td>\n",
       "      <td>Classics, Drama</td>\n",
       "      <td>Sidney Lumet</td>\n",
       "      <td>Reginald Rose</td>\n",
       "      <td>Martin Balsam, John Fiedler, Lee J. Cobb, E.G....</td>\n",
       "      <td>1957-04-13</td>\n",
       "      <td>2001-03-06</td>\n",
       "      <td>95</td>\n",
       "      <td>Criterion Collection</td>\n",
       "      <td>Certified Fresh</td>\n",
       "      <td>100</td>\n",
       "      <td>51</td>\n",
       "      <td>97</td>\n",
       "      <td>105000.0</td>\n",
       "    </tr>\n",
       "    <tr>\n",
       "      <th>4</th>\n",
       "      <td>20,000 Leagues Under The Sea</td>\n",
       "      <td>This 1954 Disney version of Jules Verne's 20,0...</td>\n",
       "      <td>One of Disney's finest live-action adventures,...</td>\n",
       "      <td>G</td>\n",
       "      <td>Action &amp; Adventure, Drama, Kids &amp; Family</td>\n",
       "      <td>Richard Fleischer</td>\n",
       "      <td>Earl Felton</td>\n",
       "      <td>James Mason, Kirk Douglas, Paul Lukas, Peter L...</td>\n",
       "      <td>1954-01-01</td>\n",
       "      <td>2003-05-20</td>\n",
       "      <td>127</td>\n",
       "      <td>Disney</td>\n",
       "      <td>Fresh</td>\n",
       "      <td>89</td>\n",
       "      <td>27</td>\n",
       "      <td>74</td>\n",
       "      <td>68860.0</td>\n",
       "    </tr>\n",
       "  </tbody>\n",
       "</table>\n",
       "</div>"
      ],
      "text/plain": [
       "                                         movie_title  \\\n",
       "0  Percy Jackson & the Olympians: The Lightning T...   \n",
       "1                                        Please Give   \n",
       "2                                                 10   \n",
       "3                    12 Angry Men (Twelve Angry Men)   \n",
       "4                       20,000 Leagues Under The Sea   \n",
       "\n",
       "                                          movie_info  \\\n",
       "0  A teenager discovers he's the descendant of a ...   \n",
       "1  Kate has a lot on her mind. There's the ethics...   \n",
       "2  Blake Edwards' 10 stars Dudley Moore as George...   \n",
       "3  A Puerto Rican youth is on trial for murder, a...   \n",
       "4  This 1954 Disney version of Jules Verne's 20,0...   \n",
       "\n",
       "                                   critics_consensus rating  \\\n",
       "0  Though it may seem like just another Harry Pot...     PG   \n",
       "1  Nicole Holofcener's newest might seem slight i...      R   \n",
       "2                                                NaN      R   \n",
       "3  Sidney Lumet's feature debut is a superbly wri...     NR   \n",
       "4  One of Disney's finest live-action adventures,...      G   \n",
       "\n",
       "                                               genre          directors  \\\n",
       "0  Action & Adventure, Comedy, Drama, Science Fic...     Chris Columbus   \n",
       "1                                             Comedy  Nicole Holofcener   \n",
       "2                                    Comedy, Romance      Blake Edwards   \n",
       "3                                    Classics, Drama       Sidney Lumet   \n",
       "4           Action & Adventure, Drama, Kids & Family  Richard Fleischer   \n",
       "\n",
       "             writers                                               cast  \\\n",
       "0       Craig Titley  Logan Lerman, Brandon T. Jackson, Alexandra Da...   \n",
       "1  Nicole Holofcener  Catherine Keener, Amanda Peet, Oliver Platt, R...   \n",
       "2      Blake Edwards  Dudley Moore, Bo Derek, Julie Andrews, Robert ...   \n",
       "3      Reginald Rose  Martin Balsam, John Fiedler, Lee J. Cobb, E.G....   \n",
       "4        Earl Felton  James Mason, Kirk Douglas, Paul Lukas, Peter L...   \n",
       "\n",
       "  in_theaters_date on_streaming_date runtime_in_minutes  \\\n",
       "0       2010-02-12        2010-06-29                 83   \n",
       "1       2010-04-30        2010-10-19                 90   \n",
       "2       1979-10-05        1997-08-27                118   \n",
       "3       1957-04-13        2001-03-06                 95   \n",
       "4       1954-01-01        2003-05-20                127   \n",
       "\n",
       "              studio_name tomatometer_status tomatometer_rating  \\\n",
       "0        20th Century Fox             Rotten                 49   \n",
       "1  Sony Pictures Classics    Certified Fresh                 86   \n",
       "2             Waner Bros.              Fresh                 68   \n",
       "3    Criterion Collection    Certified Fresh                100   \n",
       "4                  Disney              Fresh                 89   \n",
       "\n",
       "  tomatometer_count audience_rating  audience_count  \n",
       "0               144              53        254287.0  \n",
       "1               140              64         11567.0  \n",
       "2                22              53         14670.0  \n",
       "3                51              97        105000.0  \n",
       "4                27              74         68860.0  "
      ]
     },
     "execution_count": 3,
     "metadata": {},
     "output_type": "execute_result"
    }
   ],
   "source": [
    "df.head()"
   ]
  },
  {
   "cell_type": "code",
   "execution_count": 4,
   "metadata": {},
   "outputs": [
    {
     "name": "stdout",
     "output_type": "stream",
     "text": [
      "{'movie_title': 0, 'movie_info': 25, 'critics_consensus': 8307, 'rating': 3, 'genre': 21, 'directors': 118, 'writers': 1348, 'cast': 289, 'in_theaters_date': 819, 'on_streaming_date': 8, 'runtime_in_minutes': 161, 'studio_name': 422, 'tomatometer_status': 7, 'tomatometer_rating': 7, 'tomatometer_count': 8, 'audience_rating': 261, 'audience_count': 267}\n"
     ]
    }
   ],
   "source": [
    "# Method 3: Using list comprehension\n",
    "missing_values_method3 = {col: df[col].isnull().sum() for col in df.columns}\n",
    "print(missing_values_method3)"
   ]
  },
  {
   "cell_type": "code",
   "execution_count": 5,
   "metadata": {},
   "outputs": [],
   "source": [
    "df = df.drop('movie_info', axis=1)"
   ]
  },
  {
   "cell_type": "code",
   "execution_count": 6,
   "metadata": {},
   "outputs": [
    {
     "name": "stdout",
     "output_type": "stream",
     "text": [
      "{'movie_title': 0, 'critics_consensus': 8307, 'rating': 3, 'genre': 21, 'directors': 118, 'writers': 1348, 'cast': 289, 'in_theaters_date': 819, 'on_streaming_date': 8, 'runtime_in_minutes': 161, 'studio_name': 422, 'tomatometer_status': 7, 'tomatometer_rating': 7, 'tomatometer_count': 8, 'audience_rating': 261, 'audience_count': 267}\n"
     ]
    }
   ],
   "source": [
    "# Method 3: Using list comprehension\n",
    "missing_values_method3 = {col: df[col].isnull().sum() for col in df.columns}\n",
    "print(missing_values_method3)"
   ]
  },
  {
   "cell_type": "code",
   "execution_count": 7,
   "metadata": {},
   "outputs": [
    {
     "data": {
      "text/plain": [
       "rating\n",
       "R                                                                                             6121\n",
       "NR                                                                                            4848\n",
       "PG-13                                                                                         2879\n",
       "PG                                                                                            2057\n",
       "G                                                                                              648\n",
       "NC17                                                                                            37\n",
       "PG-13)                                                                                           3\n",
       "PG-13<Cnmedy                                                                                     1\n",
       "One mf`vhe best unemrdoå`romance mkvies e6er, with %n ending thad wiln`light up any!heArt.       1\n",
       " Neckar volunteeRs for aa3uikide mission.\"                                                       1\n",
       "87                                                                                               1\n",
       "R<Drama<Mk+e Nichols                                                                             1\n",
       " Dramã\"                                                                                          1\n",
       " spejds her time at the gym                                                                      1\n",
       "R)                                                                                               1\n",
       "Name: count, dtype: int64"
      ]
     },
     "execution_count": 7,
     "metadata": {},
     "output_type": "execute_result"
    }
   ],
   "source": [
    "df.rating.value_counts()"
   ]
  },
  {
   "cell_type": "code",
   "execution_count": 8,
   "metadata": {},
   "outputs": [],
   "source": [
    "# Replace 'PG' with 'PG-13' in the 'Rating' column\n",
    "df['rating'] = df['rating'].replace('PG', 'PG-13')\n",
    "df['rating'] = df['rating'].replace('R)', 'R')\n",
    "df['rating'] = df['rating'].replace('PG-13<Cnmedy', 'PG-13')\n",
    "df['rating'] = df['rating'].replace('One mf`vhe best unemrdoå`romance mkvies e6er, with %n ending thad wiln`light up any!heArt.       1 Neckar volunteeRs for aa3uikide mission. ', ' ')\n",
    "df['rating'] = df['rating'].replace('87', ' ')\n",
    "df['rating'] = df['rating'].replace('R<Drama<Mk+e Nichols', 'R')"
   ]
  },
  {
   "cell_type": "code",
   "execution_count": 9,
   "metadata": {},
   "outputs": [
    {
     "data": {
      "text/plain": [
       "rating\n",
       "R                                                                                             6123\n",
       "PG-13                                                                                         4937\n",
       "NR                                                                                            4848\n",
       "G                                                                                              648\n",
       "NC17                                                                                            37\n",
       "PG-13)                                                                                           3\n",
       "One mf`vhe best unemrdoå`romance mkvies e6er, with %n ending thad wiln`light up any!heArt.       1\n",
       " Neckar volunteeRs for aa3uikide mission.\"                                                       1\n",
       "                                                                                                 1\n",
       " Dramã\"                                                                                          1\n",
       " spejds her time at the gym                                                                      1\n",
       "Name: count, dtype: int64"
      ]
     },
     "execution_count": 9,
     "metadata": {},
     "output_type": "execute_result"
    }
   ],
   "source": [
    "df.rating.value_counts()"
   ]
  },
  {
   "cell_type": "code",
   "execution_count": 10,
   "metadata": {},
   "outputs": [],
   "source": [
    "df['rating'] = df['rating'].replace('PG-13)', 'PG-13')\n",
    "df['rating'] = df['rating'].replace('One mf`vhe best unemrdoå`romance mkvies e6er, with %n ending thad wiln`light up any!heArt.       1 Neckar volunteeRs for aa3uikide mission.\"  ', ' ')\n",
    "df['rating'] = df['rating'].replace('Dramã\" ', ' ')\n",
    "df['rating'] = df['rating'].replace(' spejds her time at the gym                                                                      1 ', ' ')"
   ]
  },
  {
   "cell_type": "code",
   "execution_count": 11,
   "metadata": {},
   "outputs": [
    {
     "data": {
      "text/plain": [
       "rating\n",
       "R                                                                                             6123\n",
       "PG-13                                                                                         4940\n",
       "NR                                                                                            4848\n",
       "G                                                                                              648\n",
       "NC17                                                                                            37\n",
       "One mf`vhe best unemrdoå`romance mkvies e6er, with %n ending thad wiln`light up any!heArt.       1\n",
       " Neckar volunteeRs for aa3uikide mission.\"                                                       1\n",
       "                                                                                                 1\n",
       " Dramã\"                                                                                          1\n",
       " spejds her time at the gym                                                                      1\n",
       "Name: count, dtype: int64"
      ]
     },
     "execution_count": 11,
     "metadata": {},
     "output_type": "execute_result"
    }
   ],
   "source": [
    "df.rating.value_counts()"
   ]
  },
  {
   "cell_type": "code",
   "execution_count": 12,
   "metadata": {},
   "outputs": [],
   "source": [
    "df['rating'] = df['rating'].replace('^One mf`vhe best unemrdoå`romance mkvies e6er, with %n ending thad wiln`light up any!heArt.       1 Neckar volunteeRs for aa3uikide mission.\"  ', ' ')"
   ]
  },
  {
   "cell_type": "code",
   "execution_count": 13,
   "metadata": {},
   "outputs": [
    {
     "data": {
      "text/plain": [
       "rating\n",
       "R                                                                                             6123\n",
       "PG-13                                                                                         4940\n",
       "NR                                                                                            4848\n",
       "G                                                                                              648\n",
       "NC17                                                                                            37\n",
       "One mf`vhe best unemrdoå`romance mkvies e6er, with %n ending thad wiln`light up any!heArt.       1\n",
       " Neckar volunteeRs for aa3uikide mission.\"                                                       1\n",
       "                                                                                                 1\n",
       " Dramã\"                                                                                          1\n",
       " spejds her time at the gym                                                                      1\n",
       "Name: count, dtype: int64"
      ]
     },
     "execution_count": 13,
     "metadata": {},
     "output_type": "execute_result"
    }
   ],
   "source": [
    "df.rating.value_counts()"
   ]
  },
  {
   "cell_type": "code",
   "execution_count": 14,
   "metadata": {},
   "outputs": [],
   "source": [
    "df['rating'] = df['rating'].apply(lambda x: '' if isinstance(x, str) and x.startswith(' ') else x)"
   ]
  },
  {
   "cell_type": "code",
   "execution_count": 15,
   "metadata": {},
   "outputs": [
    {
     "data": {
      "text/plain": [
       "rating\n",
       "R                                                                                             6123\n",
       "PG-13                                                                                         4940\n",
       "NR                                                                                            4848\n",
       "G                                                                                              648\n",
       "NC17                                                                                            37\n",
       "                                                                                                 4\n",
       "One mf`vhe best unemrdoå`romance mkvies e6er, with %n ending thad wiln`light up any!heArt.       1\n",
       "Name: count, dtype: int64"
      ]
     },
     "execution_count": 15,
     "metadata": {},
     "output_type": "execute_result"
    }
   ],
   "source": [
    "df.rating.value_counts()"
   ]
  },
  {
   "cell_type": "code",
   "execution_count": 16,
   "metadata": {},
   "outputs": [],
   "source": [
    "df['rating'] = df['rating'].apply(lambda x: ' ' if isinstance(x, str) and x.startswith('np.nan') else x)"
   ]
  },
  {
   "cell_type": "code",
   "execution_count": 17,
   "metadata": {},
   "outputs": [
    {
     "data": {
      "text/plain": [
       "rating\n",
       "R                                                                                             6123\n",
       "PG-13                                                                                         4940\n",
       "NR                                                                                            4848\n",
       "G                                                                                              648\n",
       "NC17                                                                                            37\n",
       "                                                                                                 4\n",
       "One mf`vhe best unemrdoå`romance mkvies e6er, with %n ending thad wiln`light up any!heArt.       1\n",
       "Name: count, dtype: int64"
      ]
     },
     "execution_count": 17,
     "metadata": {},
     "output_type": "execute_result"
    }
   ],
   "source": [
    "df.rating.value_counts()"
   ]
  },
  {
   "cell_type": "code",
   "execution_count": 18,
   "metadata": {},
   "outputs": [],
   "source": [
    "import re"
   ]
  },
  {
   "cell_type": "code",
   "execution_count": 19,
   "metadata": {},
   "outputs": [],
   "source": [
    "def clean_string(s):\n",
    "    if isinstance(s, str):\n",
    "        return re.sub(r'[^a-zA-Z0-9]', '', s)\n",
    "    else:\n",
    "        return s  # Return NaN or non-string values unchanged\n",
    "\n",
    "# Apply the function to clean 'Rating' column\n",
    "df['rating'] = df['rating'].apply(clean_string)"
   ]
  },
  {
   "cell_type": "code",
   "execution_count": 20,
   "metadata": {},
   "outputs": [
    {
     "data": {
      "text/plain": [
       "rating\n",
       "R                                                                         6123\n",
       "PG13                                                                      4940\n",
       "NR                                                                        4848\n",
       "G                                                                          648\n",
       "NC17                                                                        37\n",
       "                                                                             4\n",
       "Onemfvhebestunemrdoromancemkviese6erwithnendingthadwilnlightupanyheArt       1\n",
       "Name: count, dtype: int64"
      ]
     },
     "execution_count": 20,
     "metadata": {},
     "output_type": "execute_result"
    }
   ],
   "source": [
    "df.rating.value_counts()"
   ]
  },
  {
   "cell_type": "code",
   "execution_count": 21,
   "metadata": {},
   "outputs": [
    {
     "name": "stdout",
     "output_type": "stream",
     "text": [
      "{'movie_title': 0, 'critics_consensus': 8307, 'rating': 3, 'genre': 21, 'directors': 118, 'writers': 1348, 'cast': 289, 'in_theaters_date': 819, 'on_streaming_date': 8, 'runtime_in_minutes': 161, 'studio_name': 422, 'tomatometer_status': 7, 'tomatometer_rating': 7, 'tomatometer_count': 8, 'audience_rating': 261, 'audience_count': 267}\n"
     ]
    }
   ],
   "source": [
    "# Method 3: Using list comprehension\n",
    "missing_values_method3 = {col: df[col].isnull().sum() for col in df.columns}\n",
    "print(missing_values_method3)"
   ]
  },
  {
   "cell_type": "code",
   "execution_count": 22,
   "metadata": {},
   "outputs": [
    {
     "data": {
      "text/plain": [
       "runtime_in_minutes\n",
       "90           832\n",
       "100          543\n",
       "95           539\n",
       "96           476\n",
       "93           472\n",
       "            ... \n",
       "Suâmarine      1\n",
       "191            1\n",
       "8              1\n",
       "197            1\n",
       "12             1\n",
       "Name: count, Length: 206, dtype: int64"
      ]
     },
     "execution_count": 22,
     "metadata": {},
     "output_type": "execute_result"
    }
   ],
   "source": [
    "df.runtime_in_minutes.value_counts()"
   ]
  },
  {
   "cell_type": "code",
   "execution_count": 23,
   "metadata": {},
   "outputs": [],
   "source": [
    "def clean_string(s):\n",
    "    if isinstance(s, str):\n",
    "        return re.sub(r'[^a-zA-Z0-9]', '', s)\n",
    "    else:\n",
    "        return s  # Return NaN or non-string values unchanged\n",
    "\n",
    "# Apply the function to clean 'Rating' column\n",
    "df['runtime_in_minutes'] = df['runtime_in_minutes'].apply(clean_string)"
   ]
  },
  {
   "cell_type": "code",
   "execution_count": 24,
   "metadata": {},
   "outputs": [
    {
     "data": {
      "text/plain": [
       "runtime_in_minutes\n",
       "90          832\n",
       "100         543\n",
       "95          539\n",
       "96          476\n",
       "93          472\n",
       "           ... \n",
       "Sumarine      1\n",
       "191           1\n",
       "8             1\n",
       "197           1\n",
       "12            1\n",
       "Name: count, Length: 206, dtype: int64"
      ]
     },
     "execution_count": 24,
     "metadata": {},
     "output_type": "execute_result"
    }
   ],
   "source": [
    "df.runtime_in_minutes.value_counts()"
   ]
  },
  {
   "cell_type": "code",
   "execution_count": 25,
   "metadata": {},
   "outputs": [],
   "source": [
    "df['runtime_in_minutes'] = df['runtime_in_minutes'].replace('Sumarine', ' ')"
   ]
  },
  {
   "cell_type": "code",
   "execution_count": 26,
   "metadata": {},
   "outputs": [
    {
     "data": {
      "text/plain": [
       "runtime_in_minutes\n",
       "90     832\n",
       "100    543\n",
       "95     539\n",
       "96     476\n",
       "93     472\n",
       "      ... \n",
       "         1\n",
       "191      1\n",
       "8        1\n",
       "197      1\n",
       "12       1\n",
       "Name: count, Length: 206, dtype: int64"
      ]
     },
     "execution_count": 26,
     "metadata": {},
     "output_type": "execute_result"
    }
   ],
   "source": [
    "df.runtime_in_minutes.value_counts()"
   ]
  },
  {
   "cell_type": "code",
   "execution_count": 27,
   "metadata": {},
   "outputs": [],
   "source": [
    "def clean_runtime(s):\n",
    "    if isinstance(s, str):\n",
    "        return re.sub(r'[a-zA-Z]', '', s)\n",
    "    else:\n",
    "        return s  # Return NaN or non-string values unchanged\n",
    "\n",
    "# Apply the function to clean 'runtime_in_minutes' column\n",
    "df['runtime_in_minutes'] = df['runtime_in_minutes'].apply(clean_runtime)"
   ]
  },
  {
   "cell_type": "code",
   "execution_count": 28,
   "metadata": {},
   "outputs": [
    {
     "data": {
      "text/plain": [
       "runtime_in_minutes\n",
       "90     832\n",
       "100    543\n",
       "95     539\n",
       "96     476\n",
       "93     472\n",
       "      ... \n",
       "271      1\n",
       "496      1\n",
       "41       1\n",
       "         1\n",
       "12       1\n",
       "Name: count, Length: 203, dtype: int64"
      ]
     },
     "execution_count": 28,
     "metadata": {},
     "output_type": "execute_result"
    }
   ],
   "source": [
    "df.runtime_in_minutes.value_counts()"
   ]
  },
  {
   "cell_type": "code",
   "execution_count": 29,
   "metadata": {},
   "outputs": [],
   "source": [
    "def clean_runtime(s):\n",
    "    if isinstance(s, str):\n",
    "        return re.sub(r'[^0-9]', '', s)\n",
    "    else:\n",
    "        return s  # Return NaN or non-string values unchanged\n",
    "\n",
    "# Apply the function to clean 'runtime_in_minutes' column\n",
    "df['runtime_in_minutes'] = df['runtime_in_minutes'].apply(clean_runtime)"
   ]
  },
  {
   "cell_type": "code",
   "execution_count": 30,
   "metadata": {},
   "outputs": [
    {
     "data": {
      "text/plain": [
       "runtime_in_minutes\n",
       "90     832\n",
       "100    543\n",
       "95     539\n",
       "96     476\n",
       "93     472\n",
       "      ... \n",
       "191      1\n",
       "271      1\n",
       "496      1\n",
       "41       1\n",
       "12       1\n",
       "Name: count, Length: 202, dtype: int64"
      ]
     },
     "execution_count": 30,
     "metadata": {},
     "output_type": "execute_result"
    }
   ],
   "source": [
    "df.runtime_in_minutes.value_counts()"
   ]
  },
  {
   "cell_type": "code",
   "execution_count": 31,
   "metadata": {},
   "outputs": [
    {
     "name": "stdout",
     "output_type": "stream",
     "text": [
      "{'movie_title': 0, 'critics_consensus': 8307, 'rating': 3, 'genre': 21, 'directors': 118, 'writers': 1348, 'cast': 289, 'in_theaters_date': 819, 'on_streaming_date': 8, 'runtime_in_minutes': 161, 'studio_name': 422, 'tomatometer_status': 7, 'tomatometer_rating': 7, 'tomatometer_count': 8, 'audience_rating': 261, 'audience_count': 267}\n"
     ]
    }
   ],
   "source": [
    "# Method 3: Using list comprehension\n",
    "missing_values_method3 = {col: df[col].isnull().sum() for col in df.columns}\n",
    "print(missing_values_method3)"
   ]
  },
  {
   "cell_type": "code",
   "execution_count": 32,
   "metadata": {},
   "outputs": [
    {
     "data": {
      "text/plain": [
       "studio_name\n",
       "Paramount Pictures                     495\n",
       "Warner Bros. Pictures                  492\n",
       "Universal Pictures                     468\n",
       "20th Century Fox                       414\n",
       "IFC Films                              394\n",
       "                                      ... \n",
       "Go Fish Pictures                         1\n",
       "Anthology Archives                       1\n",
       "Adlab Films                              1\n",
       "Warner Bros. Pictures International      1\n",
       "Tango Entertainment                      1\n",
       "Name: count, Length: 2889, dtype: int64"
      ]
     },
     "execution_count": 32,
     "metadata": {},
     "output_type": "execute_result"
    }
   ],
   "source": [
    "df.studio_name.value_counts()"
   ]
  },
  {
   "cell_type": "code",
   "execution_count": 33,
   "metadata": {},
   "outputs": [],
   "source": [
    "def clean_title(s):\n",
    "    if isinstance(s, str):\n",
    "        return re.sub(r'[^a-zA-Z]', '', s)\n",
    "    else:\n",
    "        return s  # Return NaN or non-string values unchanged\n",
    "\n",
    "# Apply the function to clean 'studio_name' column\n",
    "df['studio_name'] = df['studio_name'].apply(clean_title)"
   ]
  },
  {
   "cell_type": "code",
   "execution_count": 34,
   "metadata": {},
   "outputs": [
    {
     "data": {
      "text/plain": [
       "studio_name\n",
       "ParamountPictures     495\n",
       "WarnerBrosPictures    494\n",
       "UniversalPictures     468\n",
       "thCenturyFox          417\n",
       "IFCFilms              394\n",
       "                     ... \n",
       "VegaBabyReleasing       1\n",
       "TandemPictures          1\n",
       "GoFishPictures          1\n",
       "AnthologyArchives       1\n",
       "TangoEntertainment      1\n",
       "Name: count, Length: 2834, dtype: int64"
      ]
     },
     "execution_count": 34,
     "metadata": {},
     "output_type": "execute_result"
    }
   ],
   "source": [
    "df.studio_name.value_counts()"
   ]
  },
  {
   "cell_type": "code",
   "execution_count": 35,
   "metadata": {},
   "outputs": [
    {
     "name": "stdout",
     "output_type": "stream",
     "text": [
      "{'movie_title': 0, 'critics_consensus': 8307, 'rating': 3, 'genre': 21, 'directors': 118, 'writers': 1348, 'cast': 289, 'in_theaters_date': 819, 'on_streaming_date': 8, 'runtime_in_minutes': 161, 'studio_name': 422, 'tomatometer_status': 7, 'tomatometer_rating': 7, 'tomatometer_count': 8, 'audience_rating': 261, 'audience_count': 267}\n"
     ]
    }
   ],
   "source": [
    "# Method 3: Using list comprehension\n",
    "missing_values_method3 = {col: df[col].isnull().sum() for col in df.columns}\n",
    "print(missing_values_method3)"
   ]
  },
  {
   "cell_type": "code",
   "execution_count": 36,
   "metadata": {},
   "outputs": [
    {
     "data": {
      "text/plain": [
       "tomatometer_status\n",
       "Rotten             7220\n",
       "Fresh              6423\n",
       "Certified Fresh    2947\n",
       "63                    1\n",
       "81                    1\n",
       "Fsesh                 1\n",
       "209                   1\n",
       "05                    1\n",
       "8                     1\n",
       "61                    1\n",
       "Name: count, dtype: int64"
      ]
     },
     "execution_count": 36,
     "metadata": {},
     "output_type": "execute_result"
    }
   ],
   "source": [
    "df.tomatometer_status.value_counts()"
   ]
  },
  {
   "cell_type": "code",
   "execution_count": 37,
   "metadata": {},
   "outputs": [],
   "source": [
    "df['tomatometer_status'] = df['tomatometer_status'].replace('Fsesh', 'Fresh')\n",
    "df['tomatometer_status'] = df['tomatometer_status'].replace('63', ' ')\n",
    "df['tomatometer_status'] = df['tomatometer_status'].replace('81', ' ')\n",
    "df['tomatometer_status'] = df['tomatometer_status'].replace('209', ' ')\n",
    "df['tomatometer_status'] = df['tomatometer_status'].replace('05', ' ')\n",
    "df['tomatometer_status'] = df['tomatometer_status'].replace('8', ' ')\n",
    "df['tomatometer_status'] = df['tomatometer_status'].replace('61', ' ')"
   ]
  },
  {
   "cell_type": "code",
   "execution_count": 40,
   "metadata": {},
   "outputs": [
    {
     "data": {
      "text/plain": [
       "genre\n",
       "Drama                                                                           1722\n",
       "Comedy                                                                          1201\n",
       "Comedy, Drama                                                                    818\n",
       "Drama, Mystery & Suspense                                                        680\n",
       "Art House & International, Drama                                                 568\n",
       "                                                                                ... \n",
       "Art House & International, Comedy, Documentary, Special Interest, Television       1\n",
       "Animation, Art House & International, Mystery & Suspense                           1\n",
       "Action & Adventure, Comedy, Drama, Science Fiction & Fantasy, Television           1\n",
       "Action & Adventure, Art House & International, Cult Movies, Drama                  1\n",
       "Animation, Drama, Romance                                                          1\n",
       "Name: count, Length: 1085, dtype: int64"
      ]
     },
     "execution_count": 40,
     "metadata": {},
     "output_type": "execute_result"
    }
   ],
   "source": [
    "df.genre.value_counts()"
   ]
  },
  {
   "cell_type": "code",
   "execution_count": 44,
   "metadata": {},
   "outputs": [
    {
     "data": {
      "text/plain": [
       "movie_title\n",
       "                              35\n",
       "Home                           5\n",
       "Hamlet                         5\n",
       "Little Women                   4\n",
       "Scary Movie                    4\n",
       "                              ..\n",
       "Fong juk Exiled                1\n",
       "Existenz                       1\n",
       "Exists                         1\n",
       "Exit Through The Gift Shop     1\n",
       "Zulu Dawn                      1\n",
       "Name: count, Length: 15963, dtype: int64"
      ]
     },
     "execution_count": 44,
     "metadata": {},
     "output_type": "execute_result"
    }
   ],
   "source": [
    "df.movie_title.value_counts()"
   ]
  },
  {
   "cell_type": "code",
   "execution_count": 43,
   "metadata": {},
   "outputs": [],
   "source": [
    "df['movie_title'] = df['movie_title'].apply(clean_string)"
   ]
  },
  {
   "cell_type": "code",
   "execution_count": 39,
   "metadata": {},
   "outputs": [],
   "source": [
    "\n",
    "def clean_string(s):\n",
    "    if isinstance(s, str):\n",
    "        return re.sub(r'[^a-zA-Z,& ]', '', s)\n",
    "    return s  # Return non-string values unchanged\n",
    "\n",
    "# Apply the function to clean 'studio_name' column\n",
    "df['genre'] = df['genre'].apply(clean_string)\n"
   ]
  },
  {
   "cell_type": "code",
   "execution_count": 45,
   "metadata": {},
   "outputs": [],
   "source": [
    "df.to_csv(\"Rotten_Tomatoes_last_version.csv\")"
   ]
  },
  {
   "cell_type": "code",
   "execution_count": null,
   "metadata": {},
   "outputs": [],
   "source": []
  }
 ],
 "metadata": {
  "kernelspec": {
   "display_name": "Python 3",
   "language": "python",
   "name": "python3"
  },
  "language_info": {
   "codemirror_mode": {
    "name": "ipython",
    "version": 3
   },
   "file_extension": ".py",
   "mimetype": "text/x-python",
   "name": "python",
   "nbconvert_exporter": "python",
   "pygments_lexer": "ipython3",
   "version": "3.11.9"
  }
 },
 "nbformat": 4,
 "nbformat_minor": 2
}
